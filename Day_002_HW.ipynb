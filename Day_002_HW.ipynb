{
 "cells": [
  {
   "cell_type": "code",
   "execution_count": null,
   "metadata": {},
   "outputs": [],
   "source": [
    "思考題_請找出一個你認為機器學習可以發光發熱的領域並闡述原因?\n",
    "\n",
    "過去所知道解的機器人都是只會做單一事件的，優點於取代大量勞力及節省時間，但其所有動作都是經過人類所下達的指令後才會去執行，所以永遠不會超越創造者。但是如果機器人有了自主學習能力時，可以做出語音辨識、影像辨識等事情，甚至可能超越人類的想像。\n",
    "如果今天機器學習能運用在數據分析這一塊上，應該會帶來新的發展，例如科學在量子方便還是很多未知性，若能夠進一步探討，或許能夠取代這奈米級的世代，解釋更多以往無法證明的物理現象及原理。"
   ]
  }
 ],
 "metadata": {
  "kernelspec": {
   "display_name": "Python 3",
   "language": "python",
   "name": "python3"
  },
  "language_info": {
   "codemirror_mode": {
    "name": "ipython",
    "version": 3
   },
   "file_extension": ".py",
   "mimetype": "text/x-python",
   "name": "python",
   "nbconvert_exporter": "python",
   "pygments_lexer": "ipython3",
   "version": "3.7.3"
  }
 },
 "nbformat": 4,
 "nbformat_minor": 2
}
